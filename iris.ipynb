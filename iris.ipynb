{
  "nbformat": 4,
  "nbformat_minor": 0,
  "metadata": {
    "colab": {
      "provenance": [],
      "authorship_tag": "ABX9TyPB4KtH0T+vvCdQGddSQMTd",
      "include_colab_link": true
    },
    "kernelspec": {
      "name": "python3",
      "display_name": "Python 3"
    },
    "language_info": {
      "name": "python"
    }
  },
  "cells": [
    {
      "cell_type": "markdown",
      "metadata": {
        "id": "view-in-github",
        "colab_type": "text"
      },
      "source": [
        "<a href=\"https://colab.research.google.com/github/hodeaven/machine-learning/blob/main/iris.ipynb\" target=\"_parent\"><img src=\"https://colab.research.google.com/assets/colab-badge.svg\" alt=\"Open In Colab\"/></a>"
      ]
    },
    {
      "cell_type": "code",
      "execution_count": null,
      "metadata": {
        "id": "yhlDE2KuVFgs",
        "colab": {
          "base_uri": "https://localhost:8080/"
        },
        "outputId": "0bac5d51-f5fc-468c-c0c7-952d978d0441"
      },
      "outputs": [
        {
          "output_type": "stream",
          "name": "stdout",
          "text": [
            "    sepal lenght  sepal width  petal lenght  petal width           class\n",
            "0            5.0          3.0           1.6          0.2     Iris-setosa\n",
            "1            5.0          3.4           1.6          0.4     Iris-setosa\n",
            "2            5.2          3.5           1.5          0.2     Iris-setosa\n",
            "3            5.2          3.4           1.4          0.2     Iris-setosa\n",
            "4            4.7          3.2           1.6          0.2     Iris-setosa\n",
            "..           ...          ...           ...          ...             ...\n",
            "68           6.7          3.0           5.2          2.3  Iris-virginica\n",
            "69           6.3          2.5           5.0          1.9  Iris-virginica\n",
            "70           6.5          3.0           5.2          2.0  Iris-virginica\n",
            "71           6.2          3.4           5.4          2.3  Iris-virginica\n",
            "72           5.9          3.0           5.1          1.8  Iris-virginica\n",
            "\n",
            "[73 rows x 5 columns]\n",
            "    sepal lenght  sepal width  petal lenght  petal width           class\n",
            "0            5.1          3.5           1.4          0.2     Iris-setosa\n",
            "1            4.9          3.0           1.4          0.2     Iris-setosa\n",
            "2            4.7          3.2           1.3          0.2     Iris-setosa\n",
            "3            4.6          3.1           1.5          0.2     Iris-setosa\n",
            "4            5.0          3.6           1.4          0.2     Iris-setosa\n",
            "..           ...          ...           ...          ...             ...\n",
            "72           5.6          2.8           4.9          2.0  Iris-virginica\n",
            "73           7.7          2.8           6.7          2.0  Iris-virginica\n",
            "74           6.3          2.7           4.9          1.8  Iris-virginica\n",
            "75           6.7          3.3           5.7          2.1  Iris-virginica\n",
            "76           7.2          3.2           6.0          1.8  Iris-virginica\n",
            "\n",
            "[77 rows x 5 columns]\n",
            "Taxa de acerto:  0.948051948051948\n"
          ]
        }
      ],
      "source": [
        "# Importação das bibliotecas necessárias\n",
        "# 'pandas' usada para manipular e análisar dados\n",
        "import pandas as pd\n",
        "# Implementa o algoritmo do KNN\n",
        "from sklearn.neighbors import KNeighborsClassifier\n",
        "\n",
        "# Define as colunas do conjunto de dados\n",
        "name = ['sepal lenght','sepal width','petal lenght','petal width', 'class']\n",
        "\n",
        "# Ler o conjunto de dados de treinamento e teste\n",
        "data_treinamento = pd.read_csv('iris.treinamento.txt', header=None, names= name)\n",
        "data_teste = pd.read_csv('iris.test.txt', header=None, names= name)\n",
        "\n",
        "# Imprime o conjunto de dados de treinamento e teste\n",
        "print(data_treinamento)\n",
        "print(data_teste)\n",
        "\n",
        "# Instanciação dos classificadores KNN, com o 1 vizinho mais próximo\n",
        "knn = KNeighborsClassifier(n_neighbors=1)\n",
        "\n",
        "# Previsão dos conjuntos\n",
        "knn.fit(data_treinamento[name[:-1]], data_treinamento['class'])\n",
        "knn.predict(data_teste[name[:-1]])\n",
        "\n",
        "# Calcular taxas de acerto\n",
        "score = knn.score(data_teste[name[:-1]], data_teste['class'])\n",
        "\n",
        "# Imprime taxas de acerto\n",
        "print('Taxa de acerto: ',score)"
      ]
    },
    {
      "cell_type": "markdown",
      "source": [
        "# Nova seção"
      ],
      "metadata": {
        "id": "iv2eR6zyLSwI"
      }
    },
    {
      "cell_type": "markdown",
      "source": [
        "# Nova seção"
      ],
      "metadata": {
        "id": "7U5o0KthJmEk"
      }
    }
  ]
}